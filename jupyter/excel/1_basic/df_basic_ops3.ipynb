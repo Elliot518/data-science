{
 "cells": [
  {
   "cell_type": "markdown",
   "id": "00346208-3c48-41a5-b01a-b3055f41c0b3",
   "metadata": {},
   "source": [
    "## Data Aggregation and Descriptive Statistics"
   ]
  },
  {
   "cell_type": "markdown",
   "id": "ab79260f-b829-4174-979b-325972ab2f32",
   "metadata": {},
   "source": [
    "### Descriptive Statistics"
   ]
  },
  {
   "cell_type": "code",
   "execution_count": null,
   "id": "3e45e2e3-fc88-49b4-ac39-2e3bde9a72ca",
   "metadata": {},
   "outputs": [],
   "source": []
  }
 ],
 "metadata": {
  "kernelspec": {
   "display_name": "Python 3 (ipykernel)",
   "language": "python",
   "name": "python3"
  },
  "language_info": {
   "codemirror_mode": {
    "name": "ipython",
    "version": 3
   },
   "file_extension": ".py",
   "mimetype": "text/x-python",
   "name": "python",
   "nbconvert_exporter": "python",
   "pygments_lexer": "ipython3",
   "version": "3.10.9"
  }
 },
 "nbformat": 4,
 "nbformat_minor": 5
}
