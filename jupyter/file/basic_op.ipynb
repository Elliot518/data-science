{
 "cells": [
  {
   "cell_type": "markdown",
   "id": "1b3ccb8e-9cd8-47ed-b8cb-455f9c0f69df",
   "metadata": {},
   "source": [
    "# Loading, reading, and writing files with base Python"
   ]
  },
  {
   "cell_type": "markdown",
   "id": "a5ee2cb2-60c0-4653-bb3a-ce6316af9b81",
   "metadata": {},
   "source": [
    "### Opening a file and reading its contents"
   ]
  },
  {
   "cell_type": "code",
   "execution_count": 18,
   "id": "8b540176-4978-498f-a06f-4067a123443b",
   "metadata": {},
   "outputs": [],
   "source": [
    "# create a text file to read\n",
    "with open('textfile.txt', mode='w') as f:\n",
    "    f.writelines(['This is a text file.\\n', 'Now you can read it!'])"
   ]
  },
  {
   "cell_type": "code",
   "execution_count": 19,
   "id": "ecea7e49-253b-4e99-b913-0998522e9d43",
   "metadata": {},
   "outputs": [
    {
     "name": "stdout",
     "output_type": "stream",
     "text": [
      "lines of textfile: 2\n",
      "This is a text file.\n",
      "\n",
      "Now you can read it!\n"
     ]
    }
   ],
   "source": [
    "# open a file and read the contents\n",
    "# We can also provide an \"absolute\" path with the full file path\n",
    "# eg: file=r'C:\\Users\\username\\Documents\\\n",
    "file = open(file='textfile.txt', mode='r')\n",
    "text = file.readlines()\n",
    "print('lines of textfile: %s' % len(text))\n",
    "for i in range(0, len(text)):\n",
    "    print(text[i])"
   ]
  },
  {
   "cell_type": "code",
   "execution_count": 20,
   "id": "9487e566-a0ba-458b-94c7-ffae4b0ada90",
   "metadata": {},
   "outputs": [],
   "source": [
    "# the file is 'open' until we close it\n",
    "file.close()"
   ]
  },
  {
   "cell_type": "code",
   "execution_count": 21,
   "id": "8d7ee04f-9a63-4aca-9b9f-b940c00a0def",
   "metadata": {},
   "outputs": [
    {
     "name": "stdout",
     "output_type": "stream",
     "text": [
      "This is a text file.\n",
      "Now you can read it!\n"
     ]
    }
   ],
   "source": [
    "# read the entire file at once, we use the read method instead of readlines\n",
    "with open(file='textfile.txt', mode='r') as f:\n",
    "    text = f.read()\n",
    "\n",
    "print(text)"
   ]
  },
  {
   "cell_type": "code",
   "execution_count": 22,
   "id": "1891163b-df7c-4fca-8431-7746bab18781",
   "metadata": {},
   "outputs": [
    {
     "data": {
      "text/plain": [
       "'This is a '"
      ]
     },
     "execution_count": 22,
     "metadata": {},
     "output_type": "execute_result"
    }
   ],
   "source": [
    "# take a subset of strings\n",
    "text[:10]"
   ]
  },
  {
   "cell_type": "code",
   "execution_count": 23,
   "id": "fd8dc3fe-abe1-44e7-998f-412d0955e5d4",
   "metadata": {},
   "outputs": [],
   "source": [
    "# writing text to a file\n",
    "with open(file='writetest.txt', mode='w') as f:\n",
    "    f.write('testing writing out')"
   ]
  },
  {
   "cell_type": "code",
   "execution_count": 25,
   "id": "6bf7536b-9828-46b5-88bf-888d672836d3",
   "metadata": {},
   "outputs": [],
   "source": [
    "# writing a list of text to a file\n",
    "text_lines = ['This is text for testing writing.\\n', 'Now you can write to a file!\\n']\n",
    "with open(file='writetest2.txt', mode='w') as f:\n",
    "    f.writelines(text_lines)"
   ]
  },
  {
   "cell_type": "markdown",
   "id": "d4fc1e66-34e6-4475-8902-beee27fc218e",
   "metadata": {},
   "source": [
    "### Using the built-in JSON module"
   ]
  },
  {
   "cell_type": "code",
   "execution_count": 26,
   "id": "273dede5-cc87-4ba7-b4c4-53579737f004",
   "metadata": {},
   "outputs": [],
   "source": [
    "import json\n",
    "data_dictionary = {'books': 12, 'articles': 100, 'subjects': ['math', 'programming', 'data science']}"
   ]
  },
  {
   "cell_type": "code",
   "execution_count": 27,
   "id": "12a7c6ff-e772-46a9-8435-ca71a2042109",
   "metadata": {},
   "outputs": [
    {
     "data": {
      "text/plain": [
       "'{\"books\": 12, \"articles\": 100, \"subjects\": [\"math\", \"programming\", \"data science\"]}'"
      ]
     },
     "execution_count": 27,
     "metadata": {},
     "output_type": "execute_result"
    }
   ],
   "source": [
    "json_string = json.dumps(data_dictionary)\n",
    "json_string"
   ]
  },
  {
   "cell_type": "code",
   "execution_count": 28,
   "id": "491360c2-bc6c-4139-8dee-cb8c31116199",
   "metadata": {},
   "outputs": [],
   "source": [
    "with open(file='books.json', mode='w') as f:\n",
    "    f.write(json_string)"
   ]
  },
  {
   "cell_type": "code",
   "execution_count": 30,
   "id": "377b61c2-9392-4999-ab02-e8595b055577",
   "metadata": {},
   "outputs": [
    {
     "name": "stdout",
     "output_type": "stream",
     "text": [
      "{'books': 12, 'articles': 100, 'subjects': ['math', 'programming', 'data science']}\n"
     ]
    }
   ],
   "source": [
    "with open('books.json') as f:\n",
    "    my_data = json.load(f)\n",
    "print(my_data)"
   ]
  },
  {
   "cell_type": "code",
   "execution_count": 31,
   "id": "7fde5229-f3d7-4f80-b681-293b4ebd68e4",
   "metadata": {},
   "outputs": [],
   "source": [
    "# if we want to save JSON data to a text file, we can use json.dump()\n",
    "with open('reading.json', 'w') as f:\n",
    "    json.dump(data_dictionary, f)"
   ]
  },
  {
   "cell_type": "code",
   "execution_count": 32,
   "id": "02fa1e1a-a6a4-462c-aca0-796b820eeae3",
   "metadata": {},
   "outputs": [
    {
     "name": "stdout",
     "output_type": "stream",
     "text": [
      "{'books': 12, 'articles': 100, 'subjects': ['math', 'programming', 'data science']}\n"
     ]
    }
   ],
   "source": [
    "with open('reading.json') as f:\n",
    "    loaded_data = json.load(f)\n",
    "print(loaded_data)"
   ]
  },
  {
   "cell_type": "code",
   "execution_count": null,
   "id": "1f868770-0675-4d6b-bab7-10ffc7f01ebc",
   "metadata": {},
   "outputs": [],
   "source": []
  }
 ],
 "metadata": {
  "kernelspec": {
   "display_name": "Python 3 (ipykernel)",
   "language": "python",
   "name": "python3"
  },
  "language_info": {
   "codemirror_mode": {
    "name": "ipython",
    "version": 3
   },
   "file_extension": ".py",
   "mimetype": "text/x-python",
   "name": "python",
   "nbconvert_exporter": "python",
   "pygments_lexer": "ipython3",
   "version": "3.10.9"
  }
 },
 "nbformat": 4,
 "nbformat_minor": 5
}
