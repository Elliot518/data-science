{
 "cells": [
  {
   "cell_type": "code",
   "execution_count": 9,
   "metadata": {},
   "outputs": [],
   "source": [
    "import sqlalchemy as sa\n",
    "import pandas as pd\n",
    "import sqlite3"
   ]
  },
  {
   "cell_type": "code",
   "execution_count": 3,
   "metadata": {},
   "outputs": [
    {
     "name": "stdout",
     "output_type": "stream",
     "text": [
      "2022-12-13 13:56:55,989 INFO sqlalchemy.engine.base.Engine SELECT CAST('test plain returns' AS VARCHAR(60)) AS anon_1\n",
      "2022-12-13 13:56:55,991 INFO sqlalchemy.engine.base.Engine ()\n",
      "2022-12-13 13:56:55,993 INFO sqlalchemy.engine.base.Engine SELECT CAST('test unicode returns' AS VARCHAR(60)) AS anon_1\n",
      "2022-12-13 13:56:55,994 INFO sqlalchemy.engine.base.Engine ()\n"
     ]
    }
   ],
   "source": [
    "engine = sa.create_engine(\n",
    "  'sqlite:///../data/beat.db', echo=True)\n",
    "sa_connection = engine.connect()"
   ]
  },
  {
   "cell_type": "code",
   "execution_count": 6,
   "metadata": {},
   "outputs": [
    {
     "name": "stdout",
     "output_type": "stream",
     "text": [
      "2022-12-13 13:57:40,063 INFO sqlalchemy.engine.base.Engine PRAGMA main.table_info(\"Band\")\n",
      "2022-12-13 13:57:40,064 INFO sqlalchemy.engine.base.Engine ()\n",
      "2022-12-13 13:57:40,068 INFO sqlalchemy.engine.base.Engine SELECT name FROM sqlite_master WHERE type='table' ORDER BY name\n",
      "2022-12-13 13:57:40,068 INFO sqlalchemy.engine.base.Engine ()\n",
      "2022-12-13 13:57:40,077 INFO sqlalchemy.engine.base.Engine PRAGMA main.table_xinfo(\"Band\")\n",
      "2022-12-13 13:57:40,080 INFO sqlalchemy.engine.base.Engine ()\n",
      "2022-12-13 13:57:40,084 INFO sqlalchemy.engine.base.Engine SELECT sql FROM  (SELECT * FROM sqlite_master UNION ALL   SELECT * FROM sqlite_temp_master) WHERE name = ? AND type = 'table'\n",
      "2022-12-13 13:57:40,086 INFO sqlalchemy.engine.base.Engine ('Band',)\n",
      "2022-12-13 13:57:40,092 INFO sqlalchemy.engine.base.Engine PRAGMA main.foreign_key_list(\"Band\")\n",
      "2022-12-13 13:57:40,096 INFO sqlalchemy.engine.base.Engine ()\n",
      "2022-12-13 13:57:40,099 INFO sqlalchemy.engine.base.Engine PRAGMA temp.foreign_key_list(\"Band\")\n",
      "2022-12-13 13:57:40,101 INFO sqlalchemy.engine.base.Engine ()\n",
      "2022-12-13 13:57:40,102 INFO sqlalchemy.engine.base.Engine SELECT sql FROM  (SELECT * FROM sqlite_master UNION ALL   SELECT * FROM sqlite_temp_master) WHERE name = ? AND type = 'table'\n",
      "2022-12-13 13:57:40,104 INFO sqlalchemy.engine.base.Engine ('Band',)\n",
      "2022-12-13 13:57:40,106 INFO sqlalchemy.engine.base.Engine PRAGMA main.index_list(\"Band\")\n",
      "2022-12-13 13:57:40,112 INFO sqlalchemy.engine.base.Engine ()\n",
      "2022-12-13 13:57:40,116 INFO sqlalchemy.engine.base.Engine PRAGMA temp.index_list(\"Band\")\n",
      "2022-12-13 13:57:40,119 INFO sqlalchemy.engine.base.Engine ()\n",
      "2022-12-13 13:57:40,120 INFO sqlalchemy.engine.base.Engine PRAGMA main.index_list(\"Band\")\n",
      "2022-12-13 13:57:40,121 INFO sqlalchemy.engine.base.Engine ()\n",
      "2022-12-13 13:57:40,126 INFO sqlalchemy.engine.base.Engine PRAGMA temp.index_list(\"Band\")\n",
      "2022-12-13 13:57:40,133 INFO sqlalchemy.engine.base.Engine ()\n",
      "2022-12-13 13:57:40,135 INFO sqlalchemy.engine.base.Engine SELECT sql FROM  (SELECT * FROM sqlite_master UNION ALL   SELECT * FROM sqlite_temp_master) WHERE name = ? AND type = 'table'\n",
      "2022-12-13 13:57:40,137 INFO sqlalchemy.engine.base.Engine ('Band',)\n",
      "2022-12-13 13:57:40,143 INFO sqlalchemy.engine.base.Engine SELECT \"Band\".id, \"Band\".fname, \"Band\".lname, \"Band\".birthyear \n",
      "FROM \"Band\"\n",
      "2022-12-13 13:57:40,145 INFO sqlalchemy.engine.base.Engine ()\n"
     ]
    },
    {
     "data": {
      "text/html": [
       "<div>\n",
       "<style scoped>\n",
       "    .dataframe tbody tr th:only-of-type {\n",
       "        vertical-align: middle;\n",
       "    }\n",
       "\n",
       "    .dataframe tbody tr th {\n",
       "        vertical-align: top;\n",
       "    }\n",
       "\n",
       "    .dataframe thead th {\n",
       "        text-align: right;\n",
       "    }\n",
       "</style>\n",
       "<table border=\"1\" class=\"dataframe\">\n",
       "  <thead>\n",
       "    <tr style=\"text-align: right;\">\n",
       "      <th></th>\n",
       "      <th>fname</th>\n",
       "      <th>lname</th>\n",
       "      <th>birthyear</th>\n",
       "    </tr>\n",
       "    <tr>\n",
       "      <th>id</th>\n",
       "      <th></th>\n",
       "      <th></th>\n",
       "      <th></th>\n",
       "    </tr>\n",
       "  </thead>\n",
       "  <tbody>\n",
       "    <tr>\n",
       "      <th>0</th>\n",
       "      <td>Paul</td>\n",
       "      <td>McCartney</td>\n",
       "      <td>1942</td>\n",
       "    </tr>\n",
       "    <tr>\n",
       "      <th>1</th>\n",
       "      <td>John</td>\n",
       "      <td>Lennon</td>\n",
       "      <td>1940</td>\n",
       "    </tr>\n",
       "  </tbody>\n",
       "</table>\n",
       "</div>"
      ],
      "text/plain": [
       "   fname      lname  birthyear\n",
       "id                            \n",
       "0   Paul  McCartney       1942\n",
       "1   John     Lennon       1940"
      ]
     },
     "execution_count": 6,
     "metadata": {},
     "output_type": "execute_result"
    }
   ],
   "source": [
    "beat = pd.read_sql('Band', sa_connection, index_col='id')\n",
    "beat"
   ]
  },
  {
   "cell_type": "code",
   "execution_count": 10,
   "metadata": {},
   "outputs": [
    {
     "data": {
      "text/html": [
       "<div>\n",
       "<style scoped>\n",
       "    .dataframe tbody tr th:only-of-type {\n",
       "        vertical-align: middle;\n",
       "    }\n",
       "\n",
       "    .dataframe tbody tr th {\n",
       "        vertical-align: top;\n",
       "    }\n",
       "\n",
       "    .dataframe thead th {\n",
       "        text-align: right;\n",
       "    }\n",
       "</style>\n",
       "<table border=\"1\" class=\"dataframe\">\n",
       "  <thead>\n",
       "    <tr style=\"text-align: right;\">\n",
       "      <th></th>\n",
       "      <th>fname</th>\n",
       "      <th>birthyear</th>\n",
       "    </tr>\n",
       "  </thead>\n",
       "  <tbody>\n",
       "    <tr>\n",
       "      <th>0</th>\n",
       "      <td>Paul</td>\n",
       "      <td>1942</td>\n",
       "    </tr>\n",
       "    <tr>\n",
       "      <th>1</th>\n",
       "      <td>John</td>\n",
       "      <td>1940</td>\n",
       "    </tr>\n",
       "  </tbody>\n",
       "</table>\n",
       "</div>"
      ],
      "text/plain": [
       "  fname  birthyear\n",
       "0  Paul       1942\n",
       "1  John       1940"
      ]
     },
     "execution_count": 10,
     "metadata": {},
     "output_type": "execute_result"
    }
   ],
   "source": [
    "con = sqlite3.connect('../data/beat.db')\n",
    "sql = '''SELECT fname, birthyear from Band'''\n",
    "fnames = pd.read_sql(sql, con)\n",
    "fnames"
   ]
  },
  {
   "cell_type": "code",
   "execution_count": null,
   "metadata": {},
   "outputs": [],
   "source": []
  }
 ],
 "metadata": {
  "kernelspec": {
   "display_name": "Python 3",
   "language": "python",
   "name": "python3"
  },
  "language_info": {
   "codemirror_mode": {
    "name": "ipython",
    "version": 3
   },
   "file_extension": ".py",
   "mimetype": "text/x-python",
   "name": "python",
   "nbconvert_exporter": "python",
   "pygments_lexer": "ipython3",
   "version": "3.8.5"
  }
 },
 "nbformat": 4,
 "nbformat_minor": 4
}
