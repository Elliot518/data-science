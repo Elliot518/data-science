{
 "cells": [
  {
   "cell_type": "code",
   "execution_count": 3,
   "id": "69b8e1be",
   "metadata": {},
   "outputs": [],
   "source": [
    "import numpy as np"
   ]
  },
  {
   "cell_type": "code",
   "execution_count": 10,
   "id": "18a425f0",
   "metadata": {},
   "outputs": [
    {
     "data": {
      "text/plain": [
       "array([[ 2,  3,  5,  7],\n",
       "       [11, 13, 17, 19],\n",
       "       [23, 29, 31, 37],\n",
       "       [41, 43, 47, 49]])"
      ]
     },
     "execution_count": 10,
     "metadata": {},
     "output_type": "execute_result"
    }
   ],
   "source": [
    "# crete a  4 x 4 matrix\n",
    "my_array = np.array([[2,3,5,7],[11,13,17,19],\n",
    "                     [23,29,31,37,], [41,43,47,49]])\n",
    "my_array"
   ]
  },
  {
   "cell_type": "code",
   "execution_count": 5,
   "id": "2b38d5a1",
   "metadata": {},
   "outputs": [
    {
     "data": {
      "text/plain": [
       "13"
      ]
     },
     "execution_count": 5,
     "metadata": {},
     "output_type": "execute_result"
    }
   ],
   "source": [
    "my_array[1,1]"
   ]
  },
  {
   "cell_type": "code",
   "execution_count": 9,
   "id": "01b53854",
   "metadata": {},
   "outputs": [
    {
     "data": {
      "text/plain": [
       "array([11, 13, 17, 19])"
      ]
     },
     "execution_count": 9,
     "metadata": {},
     "output_type": "execute_result"
    }
   ],
   "source": [
    "# get row #2\n",
    "my_array[1,:]"
   ]
  },
  {
   "cell_type": "code",
   "execution_count": 8,
   "id": "92552ed5",
   "metadata": {},
   "outputs": [
    {
     "data": {
      "text/plain": [
       "array([ 3, 13, 29, 43])"
      ]
     },
     "execution_count": 8,
     "metadata": {},
     "output_type": "execute_result"
    }
   ],
   "source": [
    "# get column #2\n",
    "my_array[:,1]"
   ]
  },
  {
   "cell_type": "code",
   "execution_count": 12,
   "id": "878be2da",
   "metadata": {},
   "outputs": [
    {
     "data": {
      "text/plain": [
       "array([[11, 13, 17, 19],\n",
       "       [23, 29, 31, 37]])"
      ]
     },
     "execution_count": 12,
     "metadata": {},
     "output_type": "execute_result"
    }
   ],
   "source": [
    "# get #2,#3 rows\n",
    "my_array[1:3,:]"
   ]
  },
  {
   "cell_type": "code",
   "execution_count": 13,
   "id": "e81f8989",
   "metadata": {},
   "outputs": [
    {
     "data": {
      "text/plain": [
       "array([[11, 13],\n",
       "       [23, 29]])"
      ]
     },
     "execution_count": 13,
     "metadata": {},
     "output_type": "execute_result"
    }
   ],
   "source": [
    "# get rows #2,3 and columns #1,2\n",
    "my_array[1:3,0:2]"
   ]
  },
  {
   "cell_type": "code",
   "execution_count": 15,
   "id": "83ebb442",
   "metadata": {},
   "outputs": [
    {
     "data": {
      "text/plain": [
       "array([[11, 17],\n",
       "       [23, 31]])"
      ]
     },
     "execution_count": 15,
     "metadata": {},
     "output_type": "execute_result"
    }
   ],
   "source": [
    "# get rows #2,3 and columns #1,3\n",
    "my_array[1:3,[0,2]]"
   ]
  },
  {
   "cell_type": "code",
   "execution_count": null,
   "id": "711b181f",
   "metadata": {},
   "outputs": [],
   "source": []
  }
 ],
 "metadata": {
  "kernelspec": {
   "display_name": "Python 3 (ipykernel)",
   "language": "python",
   "name": "python3"
  },
  "language_info": {
   "codemirror_mode": {
    "name": "ipython",
    "version": 3
   },
   "file_extension": ".py",
   "mimetype": "text/x-python",
   "name": "python",
   "nbconvert_exporter": "python",
   "pygments_lexer": "ipython3",
   "version": "3.9.16"
  }
 },
 "nbformat": 4,
 "nbformat_minor": 5
}
